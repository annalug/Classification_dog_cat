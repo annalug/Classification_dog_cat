{
 "cells": [
  {
   "cell_type": "code",
   "execution_count": 37,
   "id": "15621e88",
   "metadata": {},
   "outputs": [],
   "source": [
    "from keras.preprocessing.image import ImageDataGenerator\n",
    "from tensorflow.keras.models import Sequential\n",
    "from tensorflow.keras.layers import Conv2D\n",
    "from tensorflow.keras.layers import MaxPooling2D\n",
    "from tensorflow.keras.layers import Flatten\n",
    "from tensorflow.keras.layers import Dense\n",
    "import tensorflow as tf\n",
    "\n",
    "\n",
    "import time"
   ]
  },
  {
   "cell_type": "code",
   "execution_count": 38,
   "id": "90625c6d",
   "metadata": {},
   "outputs": [],
   "source": [
    "train_datagen = ImageDataGenerator(rescale = 1./255, # Feature Scaling: Divide the value of pixels by 255, getting all of them with a value between 0 and 1\n",
    "                                   shear_range = 0.2,\n",
    "                                   zoom_range = 0.2,# Randomly zoom image \n",
    "                                   rotation_range = 30,  # randomly rotate images in the range (degrees, 0 to 180)\n",
    "        width_shift_range=0.1,  # randomly shift images horizontally (fraction of total width)\n",
    "        height_shift_range=0.1,  # randomly shift images vertically (fraction of total height)\n",
    "                                   horizontal_flip = True)"
   ]
  },
  {
   "cell_type": "code",
   "execution_count": 39,
   "id": "8177af5e",
   "metadata": {},
   "outputs": [],
   "source": [
    "# altering the scale of the test datagen too\n",
    "test_datagen = ImageDataGenerator(rescale = 1./255)"
   ]
  },
  {
   "cell_type": "code",
   "execution_count": 40,
   "id": "25948c83",
   "metadata": {},
   "outputs": [],
   "source": [
    "train_data_dir = 'imgs/dogs_cats/train'"
   ]
  },
  {
   "cell_type": "code",
   "execution_count": 41,
   "id": "f1ef0bcb",
   "metadata": {},
   "outputs": [
    {
     "name": "stdout",
     "output_type": "stream",
     "text": [
      "Found 8000 images belonging to 2 classes.\n"
     ]
    }
   ],
   "source": [
    "training_set = train_datagen.flow_from_directory(train_data_dir,\n",
    "                                                 target_size = (64, 64), \n",
    "                                                 batch_size = 32,\n",
    "                                                 class_mode = 'binary')"
   ]
  },
  {
   "cell_type": "code",
   "execution_count": 42,
   "id": "e0cad0c8",
   "metadata": {},
   "outputs": [
    {
     "data": {
      "text/plain": [
       "{'cats': 0, 'dogs': 1}"
      ]
     },
     "execution_count": 42,
     "metadata": {},
     "output_type": "execute_result"
    }
   ],
   "source": [
    "# classes\n",
    "training_set.class_indices"
   ]
  },
  {
   "cell_type": "code",
   "execution_count": 43,
   "id": "a097bc26",
   "metadata": {},
   "outputs": [],
   "source": [
    "test_data_dir = 'imgs/dogs_cats/test'"
   ]
  },
  {
   "cell_type": "code",
   "execution_count": 44,
   "id": "ab308733",
   "metadata": {},
   "outputs": [
    {
     "name": "stdout",
     "output_type": "stream",
     "text": [
      "Found 2000 images belonging to 2 classes.\n"
     ]
    }
   ],
   "source": [
    "test_set = test_datagen.flow_from_directory(test_data_dir,\n",
    "                                            target_size = (64, 64),\n",
    "                                            batch_size = 32,\n",
    "                                            class_mode = 'binary')"
   ]
  },
  {
   "cell_type": "code",
   "execution_count": 45,
   "id": "61e234fb",
   "metadata": {},
   "outputs": [
    {
     "data": {
      "text/plain": [
       "{'cats': 0, 'dogs': 1}"
      ]
     },
     "execution_count": 45,
     "metadata": {},
     "output_type": "execute_result"
    }
   ],
   "source": [
    "test_set.class_indices"
   ]
  },
  {
   "cell_type": "code",
   "execution_count": 51,
   "id": "abe1420c",
   "metadata": {},
   "outputs": [],
   "source": [
    "# defning the learning rate\n",
    "lr = 0.001"
   ]
  },
  {
   "cell_type": "code",
   "execution_count": 52,
   "id": "635c1242",
   "metadata": {},
   "outputs": [],
   "source": [
    "\n",
    "myCNN = Sequential()\n",
    "# Convolution layer\n",
    "myCNN.add(Conv2D(32, (3, 3), input_shape = (64, 64, 3), activation = 'relu'))\n",
    "# pooling\n",
    "myCNN.add(MaxPooling2D(pool_size = (2, 2)))\n",
    "# second convolution layer\n",
    "myCNN.add(Conv2D(32, (3, 3), activation = 'relu'))\n",
    "myCNN.add(MaxPooling2D(pool_size = (2, 2)))\n",
    "# flattening\n",
    "myCNN.add(Flatten())\n",
    "myCNN.add(Dense(units = 128, activation = 'relu'))\n",
    "\n",
    "#output unit, sigmoid for binary classification\n",
    "myCNN.add(Dense(units = 1, activation = 'sigmoid'))\n",
    "\n",
    "opt = tf.keras.optimizers.SGD(learning_rate=lr,momentum=0.9)\n",
    "myCNN.compile(optimizer = opt, loss = 'binary_crossentropy', metrics = ['accuracy'])\n"
   ]
  },
  {
   "cell_type": "code",
   "execution_count": 57,
   "id": "3c029bdb",
   "metadata": {},
   "outputs": [],
   "source": [
    "\n",
    "batch_size = 32\n",
    "\n",
    "epochs =100\n",
    "\n",
    "steps_per_epoch = 8000/batch_size \n",
    "\n",
    "\n",
    "validation_steps = 2000/batch_size"
   ]
  },
  {
   "cell_type": "code",
   "execution_count": 58,
   "id": "b1a1171a",
   "metadata": {},
   "outputs": [
    {
     "name": "stdout",
     "output_type": "stream",
     "text": [
      "Epoch 1/100\n",
      "250/250 [==============================] - 16s 64ms/step - loss: 0.4419 - accuracy: 0.7965 - val_loss: 0.4290 - val_accuracy: 0.8100\n",
      "Epoch 2/100\n",
      "250/250 [==============================] - 17s 67ms/step - loss: 0.4359 - accuracy: 0.7979 - val_loss: 0.4187 - val_accuracy: 0.8110\n",
      "Epoch 3/100\n",
      "250/250 [==============================] - 16s 65ms/step - loss: 0.4404 - accuracy: 0.7895 - val_loss: 0.4150 - val_accuracy: 0.8100\n",
      "Epoch 4/100\n",
      "250/250 [==============================] - 16s 63ms/step - loss: 0.4297 - accuracy: 0.7989 - val_loss: 0.4283 - val_accuracy: 0.8110\n",
      "Epoch 5/100\n",
      "250/250 [==============================] - 16s 65ms/step - loss: 0.4340 - accuracy: 0.8015 - val_loss: 0.4249 - val_accuracy: 0.8040\n",
      "Epoch 6/100\n",
      "250/250 [==============================] - 16s 65ms/step - loss: 0.4320 - accuracy: 0.7972 - val_loss: 0.4669 - val_accuracy: 0.7890\n",
      "Epoch 7/100\n",
      "250/250 [==============================] - 16s 65ms/step - loss: 0.4270 - accuracy: 0.7977 - val_loss: 0.4138 - val_accuracy: 0.8140\n",
      "Epoch 8/100\n",
      "250/250 [==============================] - 16s 65ms/step - loss: 0.4277 - accuracy: 0.8009 - val_loss: 0.4315 - val_accuracy: 0.8030\n",
      "Epoch 9/100\n",
      "250/250 [==============================] - 16s 65ms/step - loss: 0.4271 - accuracy: 0.8012 - val_loss: 0.4151 - val_accuracy: 0.8135\n",
      "Epoch 10/100\n",
      "250/250 [==============================] - 16s 65ms/step - loss: 0.4176 - accuracy: 0.8041 - val_loss: 0.4290 - val_accuracy: 0.8085\n",
      "Epoch 11/100\n",
      "250/250 [==============================] - 16s 65ms/step - loss: 0.4213 - accuracy: 0.8052 - val_loss: 0.4494 - val_accuracy: 0.8030\n",
      "Epoch 12/100\n",
      "250/250 [==============================] - 16s 65ms/step - loss: 0.4258 - accuracy: 0.8051 - val_loss: 0.4192 - val_accuracy: 0.8140\n",
      "Epoch 13/100\n",
      "250/250 [==============================] - 18s 70ms/step - loss: 0.4267 - accuracy: 0.8046 - val_loss: 0.4255 - val_accuracy: 0.8085\n",
      "Epoch 14/100\n",
      "250/250 [==============================] - 17s 67ms/step - loss: 0.4197 - accuracy: 0.8066 - val_loss: 0.4248 - val_accuracy: 0.8100\n",
      "Epoch 15/100\n",
      "250/250 [==============================] - 15s 61ms/step - loss: 0.4191 - accuracy: 0.8079 - val_loss: 0.4265 - val_accuracy: 0.8105\n",
      "Epoch 16/100\n",
      "250/250 [==============================] - 17s 68ms/step - loss: 0.4192 - accuracy: 0.8058 - val_loss: 0.4141 - val_accuracy: 0.8125\n",
      "Epoch 17/100\n",
      "250/250 [==============================] - 17s 68ms/step - loss: 0.4176 - accuracy: 0.8043 - val_loss: 0.4214 - val_accuracy: 0.8045\n",
      "Epoch 18/100\n",
      "250/250 [==============================] - 17s 68ms/step - loss: 0.4239 - accuracy: 0.7997 - val_loss: 0.4214 - val_accuracy: 0.8025\n",
      "Epoch 19/100\n",
      "250/250 [==============================] - 17s 66ms/step - loss: 0.4213 - accuracy: 0.8036 - val_loss: 0.4317 - val_accuracy: 0.8080\n",
      "Epoch 20/100\n",
      "250/250 [==============================] - 16s 64ms/step - loss: 0.4101 - accuracy: 0.8106 - val_loss: 0.4298 - val_accuracy: 0.8065\n",
      "Epoch 21/100\n",
      "250/250 [==============================] - 17s 67ms/step - loss: 0.4190 - accuracy: 0.8062 - val_loss: 0.4116 - val_accuracy: 0.8050\n",
      "Epoch 22/100\n",
      "250/250 [==============================] - 16s 63ms/step - loss: 0.4194 - accuracy: 0.8037 - val_loss: 0.4281 - val_accuracy: 0.8075\n",
      "Epoch 23/100\n",
      "250/250 [==============================] - 17s 67ms/step - loss: 0.4104 - accuracy: 0.8094 - val_loss: 0.4121 - val_accuracy: 0.8165\n",
      "Epoch 24/100\n",
      "250/250 [==============================] - 17s 69ms/step - loss: 0.4119 - accuracy: 0.8050 - val_loss: 0.4302 - val_accuracy: 0.8025\n",
      "Epoch 25/100\n",
      "250/250 [==============================] - 16s 66ms/step - loss: 0.4096 - accuracy: 0.8125 - val_loss: 0.4403 - val_accuracy: 0.7970\n",
      "Epoch 26/100\n",
      "250/250 [==============================] - 17s 67ms/step - loss: 0.4168 - accuracy: 0.8079 - val_loss: 0.4274 - val_accuracy: 0.8075\n",
      "Epoch 27/100\n",
      "250/250 [==============================] - 19s 75ms/step - loss: 0.4096 - accuracy: 0.8109 - val_loss: 0.4329 - val_accuracy: 0.8030\n",
      "Epoch 28/100\n",
      "250/250 [==============================] - 17s 68ms/step - loss: 0.4183 - accuracy: 0.8036 - val_loss: 0.4241 - val_accuracy: 0.8090\n",
      "Epoch 29/100\n",
      "250/250 [==============================] - 18s 70ms/step - loss: 0.4089 - accuracy: 0.8105 - val_loss: 0.4633 - val_accuracy: 0.7875\n",
      "Epoch 30/100\n",
      "250/250 [==============================] - 19s 74ms/step - loss: 0.4143 - accuracy: 0.8098 - val_loss: 0.4251 - val_accuracy: 0.8105\n",
      "Epoch 31/100\n",
      "250/250 [==============================] - 18s 72ms/step - loss: 0.4020 - accuracy: 0.8180 - val_loss: 0.4104 - val_accuracy: 0.8095\n",
      "Epoch 32/100\n",
      "250/250 [==============================] - 18s 71ms/step - loss: 0.4066 - accuracy: 0.8140 - val_loss: 0.4220 - val_accuracy: 0.8085\n",
      "Epoch 33/100\n",
      "250/250 [==============================] - 16s 63ms/step - loss: 0.3979 - accuracy: 0.8160 - val_loss: 0.4132 - val_accuracy: 0.8120\n",
      "Epoch 34/100\n",
      "250/250 [==============================] - 16s 64ms/step - loss: 0.4000 - accuracy: 0.8166 - val_loss: 0.4234 - val_accuracy: 0.8075\n",
      "Epoch 35/100\n",
      "250/250 [==============================] - 16s 64ms/step - loss: 0.4039 - accuracy: 0.8144 - val_loss: 0.4301 - val_accuracy: 0.8120\n",
      "Epoch 36/100\n",
      "250/250 [==============================] - 16s 64ms/step - loss: 0.3967 - accuracy: 0.8241 - val_loss: 0.4164 - val_accuracy: 0.8105\n",
      "Epoch 37/100\n",
      "250/250 [==============================] - 16s 63ms/step - loss: 0.4016 - accuracy: 0.8141 - val_loss: 0.4066 - val_accuracy: 0.8245\n",
      "Epoch 38/100\n",
      "250/250 [==============================] - 16s 64ms/step - loss: 0.4031 - accuracy: 0.8115 - val_loss: 0.3945 - val_accuracy: 0.8230\n",
      "Epoch 39/100\n",
      "250/250 [==============================] - 16s 64ms/step - loss: 0.4065 - accuracy: 0.8135 - val_loss: 0.4181 - val_accuracy: 0.8120\n",
      "Epoch 40/100\n",
      "250/250 [==============================] - 16s 64ms/step - loss: 0.4065 - accuracy: 0.8106 - val_loss: 0.4044 - val_accuracy: 0.8150\n",
      "Epoch 41/100\n",
      "250/250 [==============================] - 16s 64ms/step - loss: 0.3995 - accuracy: 0.8174 - val_loss: 0.4115 - val_accuracy: 0.8155\n",
      "Epoch 42/100\n",
      "250/250 [==============================] - 16s 65ms/step - loss: 0.3947 - accuracy: 0.8225 - val_loss: 0.4096 - val_accuracy: 0.8130\n",
      "Epoch 43/100\n",
      "250/250 [==============================] - 17s 66ms/step - loss: 0.4003 - accuracy: 0.8152 - val_loss: 0.3990 - val_accuracy: 0.8245\n",
      "Epoch 44/100\n",
      "250/250 [==============================] - 17s 67ms/step - loss: 0.3927 - accuracy: 0.8217 - val_loss: 0.3989 - val_accuracy: 0.8170\n",
      "Epoch 45/100\n",
      "250/250 [==============================] - 17s 66ms/step - loss: 0.3891 - accuracy: 0.8206 - val_loss: 0.4013 - val_accuracy: 0.8200\n",
      "Epoch 46/100\n",
      "250/250 [==============================] - 17s 66ms/step - loss: 0.3892 - accuracy: 0.8205 - val_loss: 0.4456 - val_accuracy: 0.8055\n",
      "Epoch 47/100\n",
      "250/250 [==============================] - 16s 65ms/step - loss: 0.3915 - accuracy: 0.8190 - val_loss: 0.4020 - val_accuracy: 0.8185\n",
      "Epoch 48/100\n",
      "250/250 [==============================] - 16s 64ms/step - loss: 0.3870 - accuracy: 0.8242 - val_loss: 0.4058 - val_accuracy: 0.8200\n",
      "Epoch 49/100\n",
      "250/250 [==============================] - 16s 65ms/step - loss: 0.3856 - accuracy: 0.8214 - val_loss: 0.4059 - val_accuracy: 0.8220\n",
      "Epoch 50/100\n",
      "250/250 [==============================] - 16s 64ms/step - loss: 0.3879 - accuracy: 0.8194 - val_loss: 0.4422 - val_accuracy: 0.8070\n",
      "Epoch 51/100\n",
      "250/250 [==============================] - 16s 63ms/step - loss: 0.3887 - accuracy: 0.8198 - val_loss: 0.4180 - val_accuracy: 0.8125\n",
      "Epoch 52/100\n",
      "250/250 [==============================] - 17s 66ms/step - loss: 0.3884 - accuracy: 0.8223 - val_loss: 0.4111 - val_accuracy: 0.8180\n",
      "Epoch 53/100\n",
      "250/250 [==============================] - 16s 66ms/step - loss: 0.3894 - accuracy: 0.8227 - val_loss: 0.4180 - val_accuracy: 0.8125\n",
      "Epoch 54/100\n",
      "250/250 [==============================] - 16s 64ms/step - loss: 0.3874 - accuracy: 0.8250 - val_loss: 0.3975 - val_accuracy: 0.8215\n",
      "Epoch 55/100\n",
      "250/250 [==============================] - 16s 65ms/step - loss: 0.3785 - accuracy: 0.8273 - val_loss: 0.3945 - val_accuracy: 0.8320\n",
      "Epoch 56/100\n",
      "250/250 [==============================] - 16s 65ms/step - loss: 0.3890 - accuracy: 0.8196 - val_loss: 0.4117 - val_accuracy: 0.8155\n",
      "Epoch 57/100\n"
     ]
    },
    {
     "name": "stdout",
     "output_type": "stream",
     "text": [
      "250/250 [==============================] - 16s 63ms/step - loss: 0.3819 - accuracy: 0.8275 - val_loss: 0.3996 - val_accuracy: 0.8195\n",
      "Epoch 58/100\n",
      "250/250 [==============================] - 16s 64ms/step - loss: 0.3793 - accuracy: 0.8335 - val_loss: 0.4107 - val_accuracy: 0.8235\n",
      "Epoch 59/100\n",
      "250/250 [==============================] - 16s 64ms/step - loss: 0.3845 - accuracy: 0.8274 - val_loss: 0.4519 - val_accuracy: 0.7975\n",
      "Epoch 60/100\n",
      "250/250 [==============================] - 16s 63ms/step - loss: 0.3822 - accuracy: 0.8276 - val_loss: 0.3891 - val_accuracy: 0.8285\n",
      "Epoch 61/100\n",
      "250/250 [==============================] - 16s 63ms/step - loss: 0.3845 - accuracy: 0.8231 - val_loss: 0.4092 - val_accuracy: 0.8165\n",
      "Epoch 62/100\n",
      "250/250 [==============================] - 16s 63ms/step - loss: 0.3745 - accuracy: 0.8291 - val_loss: 0.3994 - val_accuracy: 0.8245\n",
      "Epoch 63/100\n",
      "250/250 [==============================] - 16s 63ms/step - loss: 0.3760 - accuracy: 0.8295 - val_loss: 0.4136 - val_accuracy: 0.8245\n",
      "Epoch 64/100\n",
      "250/250 [==============================] - 16s 63ms/step - loss: 0.3755 - accuracy: 0.8319 - val_loss: 0.4395 - val_accuracy: 0.8030\n",
      "Epoch 65/100\n",
      "250/250 [==============================] - 16s 63ms/step - loss: 0.3781 - accuracy: 0.8250 - val_loss: 0.3971 - val_accuracy: 0.8210\n",
      "Epoch 66/100\n",
      "250/250 [==============================] - 17s 66ms/step - loss: 0.3772 - accuracy: 0.8285 - val_loss: 0.4239 - val_accuracy: 0.8130\n",
      "Epoch 67/100\n",
      "250/250 [==============================] - 15s 62ms/step - loss: 0.3742 - accuracy: 0.8273 - val_loss: 0.3962 - val_accuracy: 0.8235\n",
      "Epoch 68/100\n",
      "250/250 [==============================] - 16s 64ms/step - loss: 0.3754 - accuracy: 0.8321 - val_loss: 0.3958 - val_accuracy: 0.8230\n",
      "Epoch 69/100\n",
      "250/250 [==============================] - 15s 60ms/step - loss: 0.3718 - accuracy: 0.8338 - val_loss: 0.4033 - val_accuracy: 0.8235\n",
      "Epoch 70/100\n",
      "250/250 [==============================] - 16s 62ms/step - loss: 0.3761 - accuracy: 0.8290 - val_loss: 0.4009 - val_accuracy: 0.8230\n",
      "Epoch 71/100\n",
      "250/250 [==============================] - 16s 65ms/step - loss: 0.3736 - accuracy: 0.8298 - val_loss: 0.4028 - val_accuracy: 0.8255\n",
      "Epoch 72/100\n",
      "250/250 [==============================] - 16s 64ms/step - loss: 0.3780 - accuracy: 0.8263 - val_loss: 0.3953 - val_accuracy: 0.8280\n",
      "Epoch 73/100\n",
      "250/250 [==============================] - 16s 64ms/step - loss: 0.3736 - accuracy: 0.8307 - val_loss: 0.4012 - val_accuracy: 0.8260\n",
      "Epoch 74/100\n",
      "250/250 [==============================] - 16s 64ms/step - loss: 0.3597 - accuracy: 0.8360 - val_loss: 0.4164 - val_accuracy: 0.8195\n",
      "Epoch 75/100\n",
      "250/250 [==============================] - 16s 64ms/step - loss: 0.3622 - accuracy: 0.8329 - val_loss: 0.4345 - val_accuracy: 0.8050\n",
      "Epoch 76/100\n",
      "250/250 [==============================] - 16s 65ms/step - loss: 0.3721 - accuracy: 0.8319 - val_loss: 0.4622 - val_accuracy: 0.7950\n",
      "Epoch 77/100\n",
      "250/250 [==============================] - 16s 64ms/step - loss: 0.3681 - accuracy: 0.8359 - val_loss: 0.3937 - val_accuracy: 0.8285\n",
      "Epoch 78/100\n",
      "250/250 [==============================] - 16s 63ms/step - loss: 0.3708 - accuracy: 0.8355 - val_loss: 0.3935 - val_accuracy: 0.8270\n",
      "Epoch 79/100\n",
      "250/250 [==============================] - 16s 63ms/step - loss: 0.3632 - accuracy: 0.8371 - val_loss: 0.4700 - val_accuracy: 0.7855\n",
      "Epoch 80/100\n",
      "250/250 [==============================] - 16s 65ms/step - loss: 0.3736 - accuracy: 0.8355 - val_loss: 0.4307 - val_accuracy: 0.8095\n",
      "Epoch 81/100\n",
      "250/250 [==============================] - 16s 63ms/step - loss: 0.3650 - accuracy: 0.8347 - val_loss: 0.3849 - val_accuracy: 0.8340\n",
      "Epoch 82/100\n",
      "250/250 [==============================] - 16s 65ms/step - loss: 0.3577 - accuracy: 0.8411 - val_loss: 0.4893 - val_accuracy: 0.7830\n",
      "Epoch 83/100\n",
      "250/250 [==============================] - 16s 65ms/step - loss: 0.3655 - accuracy: 0.8330 - val_loss: 0.3923 - val_accuracy: 0.8255\n",
      "Epoch 84/100\n",
      "250/250 [==============================] - 16s 65ms/step - loss: 0.3562 - accuracy: 0.8384 - val_loss: 0.4376 - val_accuracy: 0.8105\n",
      "Epoch 85/100\n",
      "250/250 [==============================] - 16s 65ms/step - loss: 0.3570 - accuracy: 0.8371 - val_loss: 0.3994 - val_accuracy: 0.8325\n",
      "Epoch 86/100\n",
      "250/250 [==============================] - 16s 64ms/step - loss: 0.3659 - accuracy: 0.8339 - val_loss: 0.4217 - val_accuracy: 0.8150\n",
      "Epoch 87/100\n",
      "250/250 [==============================] - 16s 66ms/step - loss: 0.3576 - accuracy: 0.8393 - val_loss: 0.4061 - val_accuracy: 0.8275\n",
      "Epoch 88/100\n",
      "250/250 [==============================] - 16s 65ms/step - loss: 0.3643 - accuracy: 0.8345 - val_loss: 0.3899 - val_accuracy: 0.8355\n",
      "Epoch 89/100\n",
      "250/250 [==============================] - 16s 65ms/step - loss: 0.3595 - accuracy: 0.8378 - val_loss: 0.3904 - val_accuracy: 0.8290\n",
      "Epoch 90/100\n",
      "250/250 [==============================] - 17s 66ms/step - loss: 0.3643 - accuracy: 0.8364 - val_loss: 0.3975 - val_accuracy: 0.8245\n",
      "Epoch 91/100\n",
      "250/250 [==============================] - 16s 65ms/step - loss: 0.3489 - accuracy: 0.8432 - val_loss: 0.4038 - val_accuracy: 0.8280\n",
      "Epoch 92/100\n",
      "250/250 [==============================] - 16s 64ms/step - loss: 0.3601 - accuracy: 0.8351 - val_loss: 0.4121 - val_accuracy: 0.8230\n",
      "Epoch 93/100\n",
      "250/250 [==============================] - 16s 64ms/step - loss: 0.3543 - accuracy: 0.8382 - val_loss: 0.4262 - val_accuracy: 0.8125\n",
      "Epoch 94/100\n",
      "250/250 [==============================] - 17s 67ms/step - loss: 0.3529 - accuracy: 0.8413 - val_loss: 0.3978 - val_accuracy: 0.8320\n",
      "Epoch 95/100\n",
      "250/250 [==============================] - 16s 64ms/step - loss: 0.3574 - accuracy: 0.8397 - val_loss: 0.3861 - val_accuracy: 0.8285\n",
      "Epoch 96/100\n",
      "250/250 [==============================] - 16s 65ms/step - loss: 0.3531 - accuracy: 0.8372 - val_loss: 0.4446 - val_accuracy: 0.7995\n",
      "Epoch 97/100\n",
      "250/250 [==============================] - 16s 64ms/step - loss: 0.3500 - accuracy: 0.8409 - val_loss: 0.4083 - val_accuracy: 0.8255\n",
      "Epoch 98/100\n",
      "250/250 [==============================] - 16s 66ms/step - loss: 0.3516 - accuracy: 0.8413 - val_loss: 0.3869 - val_accuracy: 0.8345\n",
      "Epoch 99/100\n",
      "250/250 [==============================] - 16s 66ms/step - loss: 0.3559 - accuracy: 0.8409 - val_loss: 0.3944 - val_accuracy: 0.8280\n",
      "Epoch 100/100\n",
      "250/250 [==============================] - 16s 65ms/step - loss: 0.3536 - accuracy: 0.8366 - val_loss: 0.4638 - val_accuracy: 0.7930\n",
      "Training time: 1635.3739910125732\n"
     ]
    }
   ],
   "source": [
    "\n",
    "start_time = time.time()\n",
    "myCNN.fit( training_set,          \n",
    "           steps_per_epoch = steps_per_epoch,\n",
    "           epochs = epochs,\n",
    "           validation_data = test_set,\n",
    "           validation_steps = validation_steps)\n",
    "print(\"Training time:\", time.time() - start_time)"
   ]
  },
  {
   "cell_type": "code",
   "execution_count": 59,
   "id": "28108e85",
   "metadata": {},
   "outputs": [
    {
     "name": "stdout",
     "output_type": "stream",
     "text": [
      "Model: \"sequential_6\"\n",
      "_________________________________________________________________\n",
      " Layer (type)                Output Shape              Param #   \n",
      "=================================================================\n",
      " conv2d_12 (Conv2D)          (None, 62, 62, 32)        896       \n",
      "                                                                 \n",
      " max_pooling2d_12 (MaxPoolin  (None, 31, 31, 32)       0         \n",
      " g2D)                                                            \n",
      "                                                                 \n",
      " conv2d_13 (Conv2D)          (None, 29, 29, 32)        9248      \n",
      "                                                                 \n",
      " max_pooling2d_13 (MaxPoolin  (None, 14, 14, 32)       0         \n",
      " g2D)                                                            \n",
      "                                                                 \n",
      " flatten_6 (Flatten)         (None, 6272)              0         \n",
      "                                                                 \n",
      " dense_12 (Dense)            (None, 128)               802944    \n",
      "                                                                 \n",
      " dense_13 (Dense)            (None, 1)                 129       \n",
      "                                                                 \n",
      "=================================================================\n",
      "Total params: 813,217\n",
      "Trainable params: 813,217\n",
      "Non-trainable params: 0\n",
      "_________________________________________________________________\n"
     ]
    }
   ],
   "source": [
    "myCNN.summary()"
   ]
  },
  {
   "cell_type": "code",
   "execution_count": 60,
   "id": "eb2aafdf",
   "metadata": {},
   "outputs": [],
   "source": [
    "# saving the model\n",
    "myCNN.save(\"model/cnn.h5\")"
   ]
  },
  {
   "cell_type": "code",
   "execution_count": null,
   "id": "715c1cb7",
   "metadata": {},
   "outputs": [],
   "source": []
  }
 ],
 "metadata": {
  "kernelspec": {
   "display_name": "Python 3 (ipykernel)",
   "language": "python",
   "name": "python3"
  },
  "language_info": {
   "codemirror_mode": {
    "name": "ipython",
    "version": 3
   },
   "file_extension": ".py",
   "mimetype": "text/x-python",
   "name": "python",
   "nbconvert_exporter": "python",
   "pygments_lexer": "ipython3",
   "version": "3.8.10"
  }
 },
 "nbformat": 4,
 "nbformat_minor": 5
}
